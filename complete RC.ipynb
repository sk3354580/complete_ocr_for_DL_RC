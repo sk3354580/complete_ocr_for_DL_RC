{
 "cells": [
  {
   "cell_type": "markdown",
   "metadata": {},
   "source": [
    "#####coompelete RC"
   ]
  },
  {
   "cell_type": "code",
   "execution_count": 1,
   "metadata": {},
   "outputs": [
    {
     "name": "stdout",
     "output_type": "stream",
     "text": [
      "nn\n",
      "\n",
      "REGN . NO : DL2CAM0993\n",
      "\n",
      "~ OSNo : O1\n",
      "' REG. DT: 73/70/2010 MFGCD : HYU\n",
      "CH._NO : MALBBS1BLAM2176S7 COLOUR : (CR. WHITE\n",
      "ENO > G4LAAMA4SSOSS CLASS : LMYV.\n",
      "NAME  : MR. KAMAL BHOLA\n",
      "\n",
      "SAWID OF : SiO SH. J.C. BHOLA\n",
      "ADDRESS: §5B, AB BLOCK, IIND FLOOR,\n",
      "\n",
      "ESH NAGAR,\n",
      "DELHI 440015\n",
      "MODEL | i20 Sportz Registering Authority\n",
      "BODY © : SALOON NO.OFCYL : 4 | P Depot\n",
      "WHEEL BASE : 0 UNLADEN WT : 1066 4\n",
      "MFG.DT. - 9872010 SEATINGC : 5 ev X=\n",
      "\n",
      "FUEL > PETROL STANDING C _ en 7\n",
      "REGUPTO = 1210/2025 © CAP cela\n",
      "\n",
      " \n",
      "\f",
      "\n"
     ]
    }
   ],
   "source": [
    "import pytesseract\n",
    "import re\n",
    "import cv2\n",
    "img = cv2.imread('OCR-master/RC/txt_mudit_b8_1_513.jpg')\n",
    "text = pytesseract.image_to_string(img)\n",
    "print(text)"
   ]
  },
  {
   "cell_type": "code",
   "execution_count": 2,
   "metadata": {},
   "outputs": [
    {
     "data": {
      "text/plain": [
       "str"
      ]
     },
     "execution_count": 2,
     "metadata": {},
     "output_type": "execute_result"
    }
   ],
   "source": [
    "type(text)"
   ]
  },
  {
   "cell_type": "code",
   "execution_count": 3,
   "metadata": {},
   "outputs": [],
   "source": [
    "dicc={\"Registration_no\":\"Not Found\",\"Engine_no\":\"Not Found\",\"Chasis_no\":\"Not Found\",\"Register_date\":\"Not Found\",\"Name\":\"Not Found\",\"Manufacturing Date\":\"Not Found\"}\n",
    " "
   ]
  },
  {
   "cell_type": "code",
   "execution_count": 4,
   "metadata": {},
   "outputs": [],
   "source": [
    "final_data1 = []"
   ]
  },
  {
   "cell_type": "code",
   "execution_count": 9,
   "metadata": {},
   "outputs": [],
   "source": [
    "###engine numer\n",
    "if re.findall(r'\\b([A-Z0-9]{5}[0-9]{7})\\b',text):\n",
    "    dicc['Engine_no'] =re.findall(r'\\b([A-Z0-9]{5}[0-9]{7})\\b',text)\n",
    "elif re.findall(r'\\b([A-Z0-9]{5}[0-9]{6,7})\\b',text):\n",
    "    dicc['Engine_no']=re.findall(r'\\b([A-Z0-9]{5}[0-9]{6,7})\\b',text)\n",
    "elif re.findall(r'\\b([A-Z0-9]{6}[0-9]{6})\\b',text):\n",
    "    dicc['Engine_no']=re.findall(r'\\b([A-Z0-9]{6}[0-9]{6})\\b',text)\n",
    "elif re.findall(r'[A-Z][0-9]\\w{3,4}\\s?\\d{5,6}',text):\n",
    "    dicc['Engine_no']=re.findall(r'[A-Z][0-9]\\w{3,4}\\s?\\d{5,6}',text)\n",
    "elif re.findall(r'\\b([0-9]{7,9})\\b',text):\n",
    "    dicc['Engine_no']=re.findall(r'\\b([0-9]{7,9})\\b',text)\n",
    "#####Registration number\n",
    "if re.findall(r'\\b([A-Z]{2}[0-9A-Z]{4}[0-9]{4})\\b',text):\n",
    "    dicc[\"Registration_no\"]=re.findall(r'\\b([A-Z]{2}[0-9A-Z]{4}[0-9]{4})\\b',text)\n",
    "elif re.findall(r'\\b([A-Z]{2}[0-9A-Z]{3}[\\s][0-9]{4}|[A-Z]{1}[0-9A-Z]{4,5}[\\s][0-9]{4})\\b',text):\n",
    "    dicc[\"Registration_no\"]=re.findall(r'\\b([A-Z]{2}[0-9A-Z]{3}[\\s][0-9]{4}|[A-Z]{1}[0-9A-Z]{4,5}[\\s][0-9]{4})\\b',text)\n",
    "elif re.findall(r'\\b([A-Z]{2}[0-9A-Z]{2}[-][A-Z]{1}[-][0-9]{4})\\b',text):\n",
    "    dicc[\"Registration_no\"]=re.findall(r'\\b([A-Z]{2}[0-9A-Z]{2}[-][A-Z]{1}[-][0-9]{4})\\b',text)\n",
    "####chasis number\n",
    "if re.findall(r'\\b([A-Z0-9]{14,})\\b',text):\n",
    "    dicc['Chasis_no']=re.findall(r'\\b([A-Z0-9]{14,})\\b',text)\n",
    "## Registeration Date\n",
    "if re.findall(r\"\\d{1,2}[/-]\\w{2,}[/-]\\d{4}\",text):\n",
    "    dicc[\"Register_date\"] = re.findall(r\"\\d{1,2}[/-]\\w{2,}[/-]\\d{4}\",text)\n",
    "if re.findall(r\"[^\\/]\\d{1,2}[/]\\d{4}\",text):\n",
    "    dicc['Manufacturing Date']=re.findall(r\"[^\\/]\\d{1,2}[/]\\d{4}\",text)\n",
    "for wordlist in text.split('\\n'):\n",
    "    xx = wordlist.split()\n",
    "    if [w for w in xx if re.search('(NAME|Name)$', w)]:\n",
    "        dicc['Name'] = wordlist\n",
    "        "
   ]
  },
  {
   "cell_type": "code",
   "execution_count": 10,
   "metadata": {},
   "outputs": [],
   "source": [
    "final_data1.append(dicc)"
   ]
  },
  {
   "cell_type": "code",
   "execution_count": 11,
   "metadata": {},
   "outputs": [
    {
     "data": {
      "text/plain": [
       "{'Registration_no': ['DL2CAM0993'],\n",
       " 'Engine_no': ['9872010'],\n",
       " 'Chasis_no': ['MALBBS1BLAM2176S7'],\n",
       " 'Register_date': ['73/70/2010'],\n",
       " 'Name': 'NAME  : MR. KAMAL BHOLA',\n",
       " 'Manufacturing Date': ['70/2010', '210/2025']}"
      ]
     },
     "execution_count": 11,
     "metadata": {},
     "output_type": "execute_result"
    }
   ],
   "source": [
    "dicc"
   ]
  },
  {
   "cell_type": "code",
   "execution_count": 12,
   "metadata": {},
   "outputs": [],
   "source": [
    "final_data2 = tuple(final_data1)"
   ]
  },
  {
   "cell_type": "code",
   "execution_count": 13,
   "metadata": {},
   "outputs": [
    {
     "data": {
      "text/plain": [
       "({'Registration_no': ['DL2CAM0993'],\n",
       "  'Engine_no': ['9872010'],\n",
       "  'Chasis_no': ['MALBBS1BLAM2176S7'],\n",
       "  'Register_date': ['73/70/2010'],\n",
       "  'Name': 'NAME  : MR. KAMAL BHOLA',\n",
       "  'Manufacturing Date': ['70/2010', '210/2025']},\n",
       " {'Registration_no': ['DL2CAM0993'],\n",
       "  'Engine_no': ['9872010'],\n",
       "  'Chasis_no': ['MALBBS1BLAM2176S7'],\n",
       "  'Register_date': ['73/70/2010'],\n",
       "  'Name': 'NAME  : MR. KAMAL BHOLA',\n",
       "  'Manufacturing Date': ['70/2010', '210/2025']})"
      ]
     },
     "execution_count": 13,
     "metadata": {},
     "output_type": "execute_result"
    }
   ],
   "source": [
    "final_data2"
   ]
  },
  {
   "cell_type": "code",
   "execution_count": 14,
   "metadata": {},
   "outputs": [],
   "source": [
    "from xlsxwriter import Workbook\n",
    "ordered_list=[\"Registration_no\",\"Engine_no\",\"Chasis_no\",\"Register_date\",\"Name\",'Manufacturing Date'] #list object calls by index but dict object calls items randomly\n",
    "wb=Workbook(\"Final_Output.xlsx\")\n",
    "ws=wb.add_worksheet(\"New Sheet\") #or leave it blank, default name is \"Sheet 1\"\n",
    "first_row=0\n",
    "for header in ordered_list:\n",
    "    col=ordered_list.index(header) # we are keeping order.\n",
    "    ws.write(first_row,col,header) # we have written first row which is the header of worksheet also.\n",
    "row=1\n",
    "for j in final_data2: \n",
    "    #print(j)\n",
    "    for _key,_value in j.items():\n",
    "        col=ordered_list.index(_key)\n",
    "        ws.write_row(row,col,_value)\n",
    "    row+=1 #enter the next row\n",
    "wb.close()"
   ]
  },
  {
   "cell_type": "code",
   "execution_count": 17,
   "metadata": {},
   "outputs": [
    {
     "data": {
      "text/html": [
       "<div>\n",
       "<style scoped>\n",
       "    .dataframe tbody tr th:only-of-type {\n",
       "        vertical-align: middle;\n",
       "    }\n",
       "\n",
       "    .dataframe tbody tr th {\n",
       "        vertical-align: top;\n",
       "    }\n",
       "\n",
       "    .dataframe thead th {\n",
       "        text-align: right;\n",
       "    }\n",
       "</style>\n",
       "<table border=\"1\" class=\"dataframe\">\n",
       "  <thead>\n",
       "    <tr style=\"text-align: right;\">\n",
       "      <th></th>\n",
       "      <th>Registration_no</th>\n",
       "      <th>Engine_no</th>\n",
       "      <th>Chasis_no</th>\n",
       "      <th>Register_date</th>\n",
       "      <th>Name</th>\n",
       "      <th>Manufacturing Date</th>\n",
       "      <th>Unnamed: 6</th>\n",
       "      <th>Unnamed: 7</th>\n",
       "      <th>Unnamed: 8</th>\n",
       "      <th>Unnamed: 9</th>\n",
       "      <th>...</th>\n",
       "      <th>Unnamed: 17</th>\n",
       "      <th>Unnamed: 18</th>\n",
       "      <th>Unnamed: 19</th>\n",
       "      <th>Unnamed: 20</th>\n",
       "      <th>Unnamed: 21</th>\n",
       "      <th>Unnamed: 22</th>\n",
       "      <th>Unnamed: 23</th>\n",
       "      <th>Unnamed: 24</th>\n",
       "      <th>Unnamed: 25</th>\n",
       "      <th>Unnamed: 26</th>\n",
       "    </tr>\n",
       "  </thead>\n",
       "  <tbody>\n",
       "    <tr>\n",
       "      <th>0</th>\n",
       "      <td>DL2CAM0993</td>\n",
       "      <td>9872010</td>\n",
       "      <td>MALBBS1BLAM2176S7</td>\n",
       "      <td>73/70/2010</td>\n",
       "      <td>N</td>\n",
       "      <td>70/2010</td>\n",
       "      <td>210/2025</td>\n",
       "      <td>E</td>\n",
       "      <td></td>\n",
       "      <td></td>\n",
       "      <td>...</td>\n",
       "      <td>A</td>\n",
       "      <td>M</td>\n",
       "      <td>A</td>\n",
       "      <td>L</td>\n",
       "      <td></td>\n",
       "      <td>B</td>\n",
       "      <td>H</td>\n",
       "      <td>O</td>\n",
       "      <td>L</td>\n",
       "      <td>A</td>\n",
       "    </tr>\n",
       "    <tr>\n",
       "      <th>1</th>\n",
       "      <td>DL2CAM0993</td>\n",
       "      <td>9872010</td>\n",
       "      <td>MALBBS1BLAM2176S7</td>\n",
       "      <td>73/70/2010</td>\n",
       "      <td>N</td>\n",
       "      <td>70/2010</td>\n",
       "      <td>210/2025</td>\n",
       "      <td>E</td>\n",
       "      <td></td>\n",
       "      <td></td>\n",
       "      <td>...</td>\n",
       "      <td>A</td>\n",
       "      <td>M</td>\n",
       "      <td>A</td>\n",
       "      <td>L</td>\n",
       "      <td></td>\n",
       "      <td>B</td>\n",
       "      <td>H</td>\n",
       "      <td>O</td>\n",
       "      <td>L</td>\n",
       "      <td>A</td>\n",
       "    </tr>\n",
       "  </tbody>\n",
       "</table>\n",
       "<p>2 rows × 27 columns</p>\n",
       "</div>"
      ],
      "text/plain": [
       "  Registration_no  Engine_no          Chasis_no Register_date Name  \\\n",
       "0      DL2CAM0993    9872010  MALBBS1BLAM2176S7    73/70/2010    N   \n",
       "1      DL2CAM0993    9872010  MALBBS1BLAM2176S7    73/70/2010    N   \n",
       "\n",
       "  Manufacturing Date Unnamed: 6 Unnamed: 7 Unnamed: 8 Unnamed: 9  ...  \\\n",
       "0            70/2010   210/2025          E                        ...   \n",
       "1            70/2010   210/2025          E                        ...   \n",
       "\n",
       "  Unnamed: 17 Unnamed: 18 Unnamed: 19 Unnamed: 20 Unnamed: 21 Unnamed: 22  \\\n",
       "0           A           M           A           L                       B   \n",
       "1           A           M           A           L                       B   \n",
       "\n",
       "  Unnamed: 23 Unnamed: 24 Unnamed: 25 Unnamed: 26  \n",
       "0           H           O           L           A  \n",
       "1           H           O           L           A  \n",
       "\n",
       "[2 rows x 27 columns]"
      ]
     },
     "execution_count": 17,
     "metadata": {},
     "output_type": "execute_result"
    }
   ],
   "source": [
    "pd.read_excel(\"Final_Output.xlsx\")\n",
    "# Preview of Excel file"
   ]
  },
  {
   "cell_type": "code",
   "execution_count": 16,
   "metadata": {},
   "outputs": [],
   "source": [
    "import pandas as pd"
   ]
  }
 ],
 "metadata": {
  "kernelspec": {
   "display_name": "Python 3",
   "language": "python",
   "name": "python3"
  },
  "language_info": {
   "codemirror_mode": {
    "name": "ipython",
    "version": 3
   },
   "file_extension": ".py",
   "mimetype": "text/x-python",
   "name": "python",
   "nbconvert_exporter": "python",
   "pygments_lexer": "ipython3",
   "version": "3.8.3"
  }
 },
 "nbformat": 4,
 "nbformat_minor": 4
}
